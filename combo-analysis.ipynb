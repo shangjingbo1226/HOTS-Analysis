{
 "cells": [
  {
   "cell_type": "code",
   "execution_count": 2,
   "metadata": {},
   "outputs": [],
   "source": [
    "import pandas\n",
    "\n",
    "replays = pandas.read_csv('HOTSLogs Data Export Current/Replays.csv')"
   ]
  },
  {
   "cell_type": "code",
   "execution_count": 31,
   "metadata": {},
   "outputs": [
    {
     "name": "stdout",
     "output_type": "stream",
     "text": [
      "Index(['ReplayID',\n",
      "       'GameMode(3=Quick Match 4=Hero League 5=Team League 6=Unranked Draft 7=Brawl 8=Storm League)',\n",
      "       'MapID', 'Replay Length', 'Timestamp (UTC)'],\n",
      "      dtype='object')\n"
     ]
    }
   ],
   "source": [
    "print(replays.columns)"
   ]
  },
  {
   "cell_type": "code",
   "execution_count": 24,
   "metadata": {},
   "outputs": [],
   "source": [
    "is_interesting_game = replays['GameMode(3=Quick Match 4=Hero League 5=Team League 6=Unranked Draft 7=Brawl 8=Storm League)'] == 5"
   ]
  },
  {
   "cell_type": "code",
   "execution_count": 28,
   "metadata": {},
   "outputs": [
    {
     "data": {
      "text/html": [
       "<div>\n",
       "<style scoped>\n",
       "    .dataframe tbody tr th:only-of-type {\n",
       "        vertical-align: middle;\n",
       "    }\n",
       "\n",
       "    .dataframe tbody tr th {\n",
       "        vertical-align: top;\n",
       "    }\n",
       "\n",
       "    .dataframe thead th {\n",
       "        text-align: right;\n",
       "    }\n",
       "</style>\n",
       "<table border=\"1\" class=\"dataframe\">\n",
       "  <thead>\n",
       "    <tr style=\"text-align: right;\">\n",
       "      <th></th>\n",
       "      <th>ReplayID</th>\n",
       "      <th>GameMode(3=Quick Match 4=Hero League 5=Team League 6=Unranked Draft 7=Brawl 8=Storm League)</th>\n",
       "      <th>MapID</th>\n",
       "      <th>Replay Length</th>\n",
       "      <th>Timestamp (UTC)</th>\n",
       "    </tr>\n",
       "  </thead>\n",
       "  <tbody>\n",
       "    <tr>\n",
       "      <th>441046</th>\n",
       "      <td>165853688</td>\n",
       "      <td>5</td>\n",
       "      <td>1009</td>\n",
       "      <td>00:14:00</td>\n",
       "      <td>2/16/2019 12:57:22 AM</td>\n",
       "    </tr>\n",
       "    <tr>\n",
       "      <th>441047</th>\n",
       "      <td>165415972</td>\n",
       "      <td>5</td>\n",
       "      <td>1003</td>\n",
       "      <td>00:18:22</td>\n",
       "      <td>2/16/2019 12:58:05 AM</td>\n",
       "    </tr>\n",
       "    <tr>\n",
       "      <th>441048</th>\n",
       "      <td>165415971</td>\n",
       "      <td>5</td>\n",
       "      <td>1004</td>\n",
       "      <td>00:16:33</td>\n",
       "      <td>2/16/2019 12:58:06 AM</td>\n",
       "    </tr>\n",
       "  </tbody>\n",
       "</table>\n",
       "</div>"
      ],
      "text/plain": [
       "         ReplayID  \\\n",
       "441046  165853688   \n",
       "441047  165415972   \n",
       "441048  165415971   \n",
       "\n",
       "        GameMode(3=Quick Match 4=Hero League 5=Team League 6=Unranked Draft 7=Brawl 8=Storm League)  \\\n",
       "441046                                                  5                                             \n",
       "441047                                                  5                                             \n",
       "441048                                                  5                                             \n",
       "\n",
       "        MapID Replay Length        Timestamp (UTC)  \n",
       "441046   1009      00:14:00  2/16/2019 12:57:22 AM  \n",
       "441047   1003      00:18:22  2/16/2019 12:58:05 AM  \n",
       "441048   1004      00:16:33  2/16/2019 12:58:06 AM  "
      ]
     },
     "execution_count": 28,
     "metadata": {},
     "output_type": "execute_result"
    }
   ],
   "source": [
    "interesting_replays = replays[is_interesting_game]\n",
    "interesting_replays.head(3)"
   ]
  },
  {
   "cell_type": "code",
   "execution_count": 30,
   "metadata": {},
   "outputs": [
    {
     "name": "stdout",
     "output_type": "stream",
     "text": [
      "161788\n"
     ]
    }
   ],
   "source": [
    "print(len(interesting_replays))"
   ]
  },
  {
   "cell_type": "code",
   "execution_count": 32,
   "metadata": {},
   "outputs": [],
   "source": [
    "details = pandas.read_csv('HOTSLogs Data Export Current/ReplayCharacters.csv')"
   ]
  },
  {
   "cell_type": "code",
   "execution_count": 33,
   "metadata": {},
   "outputs": [
    {
     "data": {
      "text/html": [
       "<div>\n",
       "<style scoped>\n",
       "    .dataframe tbody tr th:only-of-type {\n",
       "        vertical-align: middle;\n",
       "    }\n",
       "\n",
       "    .dataframe tbody tr th {\n",
       "        vertical-align: top;\n",
       "    }\n",
       "\n",
       "    .dataframe thead th {\n",
       "        text-align: right;\n",
       "    }\n",
       "</style>\n",
       "<table border=\"1\" class=\"dataframe\">\n",
       "  <thead>\n",
       "    <tr style=\"text-align: right;\">\n",
       "      <th></th>\n",
       "      <th>ReplayID</th>\n",
       "      <th>Is Auto Select</th>\n",
       "      <th>HeroID</th>\n",
       "      <th>Hero Level</th>\n",
       "      <th>Is Winner</th>\n",
       "      <th>MMR Before</th>\n",
       "      <th>In Game Level</th>\n",
       "      <th>Takedowns</th>\n",
       "      <th>Killing Blows</th>\n",
       "      <th>Assists</th>\n",
       "      <th>Deaths</th>\n",
       "      <th>Highest Kill Streak</th>\n",
       "      <th>Hero Damage</th>\n",
       "      <th>Siege Damage</th>\n",
       "      <th>Healing</th>\n",
       "      <th>Self Healing</th>\n",
       "      <th>Damage Taken</th>\n",
       "      <th>Experience Contribution</th>\n",
       "      <th>Time Spent Dead</th>\n",
       "      <th>Merc Camp Captures</th>\n",
       "    </tr>\n",
       "  </thead>\n",
       "  <tbody>\n",
       "    <tr>\n",
       "      <th>0</th>\n",
       "      <td>165418633</td>\n",
       "      <td>0</td>\n",
       "      <td>29</td>\n",
       "      <td>20</td>\n",
       "      <td>1</td>\n",
       "      <td>2240.0</td>\n",
       "      <td>21</td>\n",
       "      <td>10</td>\n",
       "      <td>6</td>\n",
       "      <td>4</td>\n",
       "      <td>2</td>\n",
       "      <td>6</td>\n",
       "      <td>36450</td>\n",
       "      <td>107372</td>\n",
       "      <td>NaN</td>\n",
       "      <td>0</td>\n",
       "      <td>25561.0</td>\n",
       "      <td>15421</td>\n",
       "      <td>00:01:20</td>\n",
       "      <td>4</td>\n",
       "    </tr>\n",
       "    <tr>\n",
       "      <th>1</th>\n",
       "      <td>165418633</td>\n",
       "      <td>0</td>\n",
       "      <td>76</td>\n",
       "      <td>3</td>\n",
       "      <td>0</td>\n",
       "      <td>2611.0</td>\n",
       "      <td>18</td>\n",
       "      <td>4</td>\n",
       "      <td>1</td>\n",
       "      <td>3</td>\n",
       "      <td>4</td>\n",
       "      <td>2</td>\n",
       "      <td>28852</td>\n",
       "      <td>55391</td>\n",
       "      <td>12594.0</td>\n",
       "      <td>12510</td>\n",
       "      <td>61556.0</td>\n",
       "      <td>7905</td>\n",
       "      <td>00:02:56</td>\n",
       "      <td>0</td>\n",
       "    </tr>\n",
       "    <tr>\n",
       "      <th>2</th>\n",
       "      <td>165418633</td>\n",
       "      <td>0</td>\n",
       "      <td>31</td>\n",
       "      <td>20</td>\n",
       "      <td>1</td>\n",
       "      <td>2380.0</td>\n",
       "      <td>21</td>\n",
       "      <td>9</td>\n",
       "      <td>3</td>\n",
       "      <td>6</td>\n",
       "      <td>3</td>\n",
       "      <td>5</td>\n",
       "      <td>35131</td>\n",
       "      <td>34866</td>\n",
       "      <td>NaN</td>\n",
       "      <td>15384</td>\n",
       "      <td>44616.0</td>\n",
       "      <td>6910</td>\n",
       "      <td>00:02:13</td>\n",
       "      <td>4</td>\n",
       "    </tr>\n",
       "  </tbody>\n",
       "</table>\n",
       "</div>"
      ],
      "text/plain": [
       "    ReplayID  Is Auto Select  HeroID  Hero Level  Is Winner  MMR Before  \\\n",
       "0  165418633               0      29          20          1      2240.0   \n",
       "1  165418633               0      76           3          0      2611.0   \n",
       "2  165418633               0      31          20          1      2380.0   \n",
       "\n",
       "   In Game Level  Takedowns  Killing Blows  Assists  Deaths  \\\n",
       "0             21         10              6        4       2   \n",
       "1             18          4              1        3       4   \n",
       "2             21          9              3        6       3   \n",
       "\n",
       "   Highest Kill Streak  Hero Damage  Siege Damage  Healing  Self Healing  \\\n",
       "0                    6        36450        107372      NaN             0   \n",
       "1                    2        28852         55391  12594.0         12510   \n",
       "2                    5        35131         34866      NaN         15384   \n",
       "\n",
       "   Damage Taken  Experience Contribution Time Spent Dead  Merc Camp Captures  \n",
       "0       25561.0                    15421        00:01:20                   4  \n",
       "1       61556.0                     7905        00:02:56                   0  \n",
       "2       44616.0                     6910        00:02:13                   4  "
      ]
     },
     "execution_count": 33,
     "metadata": {},
     "output_type": "execute_result"
    }
   ],
   "source": [
    "details.head(3)"
   ]
  },
  {
   "cell_type": "code",
   "execution_count": 38,
   "metadata": {},
   "outputs": [],
   "source": [
    "interesting_replay_ids = set(interesting_replays['ReplayID'])"
   ]
  },
  {
   "cell_type": "code",
   "execution_count": 43,
   "metadata": {},
   "outputs": [
    {
     "name": "stdout",
     "output_type": "stream",
     "text": [
      "161788 161788\n"
     ]
    }
   ],
   "source": [
    "class RelayDetail:\n",
    "    def __init__(self):\n",
    "        self.win_team = []\n",
    "        self.lose_team = []\n",
    "        \n",
    "id2details = {}\n",
    "for index, row in details.iterrows():\n",
    "    replay_id = row['ReplayID']\n",
    "    hero = row['HeroID']\n",
    "    is_winner = row['Is Winner']\n",
    "    if replay_id in interesting_replay_ids:\n",
    "        if replay_id not in id2details:\n",
    "            id2details[replay_id] = RelayDetail()\n",
    "        if is_winner == 1:\n",
    "            id2details[replay_id].win_team.append(hero)\n",
    "        else:\n",
    "            id2details[replay_id].lose_team.append(hero)\n",
    "print(len(interesting_replay_ids), len(id2details))"
   ]
  },
  {
   "cell_type": "code",
   "execution_count": 59,
   "metadata": {},
   "outputs": [],
   "source": [
    "from collections import defaultdict\n",
    "\n",
    "class ComboInfo:\n",
    "    def __init__(self):\n",
    "        self.freq = 0\n",
    "        self.values = []\n",
    "        \n",
    "combo2info = {}\n",
    "\n",
    "def add_combo(key, value):\n",
    "    \n",
    "    global combo2info\n",
    "    if key not in combo2info:\n",
    "        combo2info[key] = ComboInfo()\n",
    "    combo2info[key].freq += 1\n",
    "    combo2info[key].values.append(value)\n",
    "\n",
    "    \n",
    "def get_subset(team, mask):\n",
    "    \n",
    "    ret = []\n",
    "    for i in range(5):\n",
    "        if (mask >> i & 1) == 1:\n",
    "            ret.append(str(team[i]))\n",
    "    return ','.join(ret)\n",
    "\n",
    "    \n",
    "for replay_id, game in id2details.items():\n",
    "    game.win_team.sort()\n",
    "    game.lose_team.sort()\n",
    "    for mask in range(1, 1 << 5):\n",
    "        add_combo(get_subset(game.win_team, mask), 1)\n",
    "        add_combo(get_subset(game.lose_team, mask), -1)"
   ]
  },
  {
   "cell_type": "code",
   "execution_count": 83,
   "metadata": {},
   "outputs": [
    {
     "name": "stdout",
     "output_type": "stream",
     "text": [
      "[('2,24', 14.067244028785062, -0.0019007364459020246), ('2,12', 13.519333731463524, 0.014722187510541948), ('14,24', 11.190240269016325, -0.17407087626095813), ('2,14', 10.802312353739383, -0.012553685162394045), ('2,72', 10.690728015125357, 0.046435289001205166), ('2,25', 9.541925833802996, 0.010570256216483885), ('2,61', 9.275942884730185, 0.0005691211661124939), ('2,59', 9.180371421313628, -0.32662923733046484), ('12,24', 8.918922026489229, -0.1273473797117349), ('2,9', 8.910833305956961, 0.03997829726852673)]\n",
      "[('20,85', -8.773130551906943, -0.45299713364500904), ('44,45', -8.939345689023526, 4.935283962700868), ('48,85', -8.974638742186396, 0.03699360338177045), ('48,70', -9.034416721617198, 0.02750989141810043), ('20,75', -9.371229415319078, 0.06543743710178329), ('48,66', -10.11080327724043, -0.2722054423832485), ('48,75', -10.861456941785619, -0.3569519909914089), ('7,48', -11.448668810703964, 0.0971244464984757), ('20,66', -12.125390337670733, 0.04829761222681868), ('20,48', -13.672751363966011, 0.006526778005986515)]\n"
     ]
    },
    {
     "data": {
      "image/png": "[encoded data removed]",
      "text/plain": [
       "<matplotlib.figure.Figure at 0x139658dd8>"
      ]
     },
     "metadata": {},
     "output_type": "display_data"
    }
   ],
   "source": [
    "from scipy import stats\n",
    "from math import *\n",
    "from matplotlib import pyplot as plt\n",
    "\n",
    "order = []\n",
    "pmis = []\n",
    "for combo, info in combo2info.items():\n",
    "    if info.freq < 100:\n",
    "        continue\n",
    "    heros = combo.split(',')\n",
    "    if len(heros) == 1:\n",
    "        continue\n",
    "    \n",
    "    pmi = -1e100\n",
    "    for mask in range(1, (1 << len(heros)) - 1):\n",
    "        part1 = []\n",
    "        part2 = []\n",
    "        for i in range(len(heros)):\n",
    "            if (mask >> i & 1) == 1:\n",
    "                part1.append(heros[i])\n",
    "            else:\n",
    "                part2.append(heros[i])\n",
    "        p1 = combo2info[','.join(part1)].freq / len(id2details)\n",
    "        p2 = combo2info[','.join(part2)].freq / len(id2details)\n",
    "        p12 = info.freq / len(id2details)\n",
    "        pmi = max(pmi, log(p12 / (p1 * p2 * 0.5)))\n",
    "        \n",
    "    pmis.append(pmi)\n",
    "\n",
    "    mean = sum(info.values) / info.freq\n",
    "    stderror = stats.sem(info.values)\n",
    "    t_stat = mean / stderror\n",
    "    order.append((combo, t_stat, pmi))\n",
    "        \n",
    "order.sort(key = lambda x : -x[1])\n",
    "print(order[:10])\n",
    "print(order[-10:])\n",
    "\n",
    "plt.hist(pmis, bins = 200)\n",
    "plt.show()"
   ]
  },
  {
   "cell_type": "code",
   "execution_count": 61,
   "metadata": {},
   "outputs": [],
   "source": [
    "id2name = {}\n",
    "for line in open('HOTSLogs Data Export Current/HeroIDAndMapID.csv'):\n",
    "    parts = line.split(',')\n",
    "    id2name[parts[0]] = parts[1]"
   ]
  },
  {
   "cell_type": "code",
   "execution_count": 114,
   "metadata": {},
   "outputs": [
    {
     "name": "stdout",
     "output_type": "stream",
     "text": [
      "t-stat    PMI    Rate    Hero Combination\n",
      "6.77      0.34   0.14    Malthael        Ana             \n",
      "5.28      0.33   0.38    Anub'arak       Leoric          Tyrande         \n",
      "4.77      0.48   0.26    Anub'arak       Malthael        Ana             \n",
      "4.73      0.37   0.28    Arthas          Alarak          Ana             \n",
      "4.63      0.37   0.16    Illidan         Uther           \n",
      "4.55      0.36   0.35    Thrall          Alarak          Ana             \n",
      "4.50      0.46   0.27    Azmodan         Raynor          Lt. Morales     \n",
      "4.46      1.23   0.30    Abathur         Illidan         Jaina           \n",
      "4.36      1.92   0.26    Abathur         Illidan         Uther           \n",
      "4.35      1.33   0.34    Abathur         Illidan         Orphea          \n",
      "3.94      0.44   0.26    Anub'arak       Valla           Lt. Morales     \n",
      "3.93      1.46   0.08    Abathur         Illidan         \n",
      "3.86      0.43   0.22    Arthas          Raynor          Lt. Morales     \n",
      "3.70      0.79   0.24    Anub'arak       Valla           Auriel          \n",
      "3.68      1.45   0.25    Abathur         Illidan         Kael'thas       \n",
      "3.56      0.33   0.21    E.T.C.          Alarak          Ana             \n",
      "3.41      1.47   0.24    Abathur         Arthas          Illidan         \n",
      "3.35      0.34   0.11    The Butcher     Uther           \n",
      "3.34      1.09   0.29    Tyrael          Lt. Morales     Artanis         \n",
      "3.29      1.43   0.21    Abathur         Anub'arak       Illidan         \n",
      "3.22      0.48   0.16    Raynor          Lt. Morales     Artanis         \n",
      "3.18      0.46   0.21    Johanna         Ana             Mephisto        \n",
      "3.13      0.35   0.24    Arthas          E.T.C.          Ana             \n",
      "3.03      0.36   0.14    Raynor          Lt. Morales     Varian          \n",
      "-3.03     0.30   -0.21   E.T.C.          Hanzo           Orphea          \n",
      "-3.26     4.94   -0.25   Jaina           Cho             Gall            \n",
      "-3.33     4.94   -0.28   Cho             Gall            Orphea          \n",
      "-3.35     1.32   -0.18   Tassadar        Tracer          \n",
      "-3.38     4.94   -0.28   Cho             Gall            Li-Ming         \n",
      "-3.46     0.33   -0.21   Muradin         Tyrande         Hanzo           \n",
      "-3.54     0.41   -0.22   Malfurion       Stitches        Hanzo           \n",
      "-3.54     4.94   -0.32   Brightwing      Cho             Gall            \n",
      "-3.97     4.94   -0.20   Cho             Gall            Ana             \n",
      "-4.13     0.30   -0.34   Muradin         Uther           Genji           \n",
      "-5.12     0.63   -0.32   Cho             Alexstrasza     \n",
      "-5.12     0.63   -0.32   Gall            Alexstrasza     \n",
      "-5.12     4.94   -0.32   Cho             Gall            Alexstrasza     \n",
      "-6.16     4.94   -0.48   Cho             Gall            Gul'dan         \n",
      "-8.94     4.94   -0.18   Cho             Gall            \n"
     ]
    }
   ],
   "source": [
    "print('t-stat    PMI    Rate    Hero Combination')\n",
    "for combo, t_stat, pmi in order:\n",
    "    heros = combo.split(',')\n",
    "    if abs(t_stat) > 3 and pmi >= 0.3:\n",
    "        ret = ''\n",
    "        ret += '{message: <10}'.format(message = '%.2f' % t_stat)\n",
    "        ret += '{message: <7}'.format(message = '%.2f' % pmi)\n",
    "        ret += '{message: <8}'.format(message = '%.2f' % (sum(combo2info[combo].values) / combo2info[combo].freq))\n",
    "        for hero in heros:\n",
    "            ret += '{message: <16}'.format(message=id2name[hero])\n",
    "        print(ret)"
   ]
  }
 ],
 "metadata": {
  "kernelspec": {
   "display_name": "Python 3",
   "language": "python",
   "name": "python3"
  },
  "language_info": {
   "codemirror_mode": {
    "name": "ipython",
    "version": 3
   },
   "file_extension": ".py",
   "mimetype": "text/x-python",
   "name": "python",
   "nbconvert_exporter": "python",
   "pygments_lexer": "ipython3",
   "version": "3.6.4"
  }
 },
 "nbformat": 4,
 "nbformat_minor": 2
}
